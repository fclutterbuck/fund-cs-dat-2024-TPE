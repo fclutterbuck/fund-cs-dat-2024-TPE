{
 "cells": [
  {
   "cell_type": "markdown",
   "metadata": {},
   "source": [
    "### Paquetes usados\n",
    "- pandas\n",
    "- re\n",
    "- numpy\n",
    "- matplotlib.pyplot"
   ]
  },
  {
   "cell_type": "markdown",
   "metadata": {},
   "source": [
    "# PREPROCESAMIENTO DE DATOS\n",
    "Abiendo el archivo *.csv*, vimos que el mismo usaba como separadores el punto y coma (;), en lugar de la coma tradicional (,). Por lo tanto, al leer el archivo (usando la función de pandas `pd.read_csv()`), se debe especificar el separador a utilizar. Para esto agregamos el parámetro `sep=';'` y así vemos que el dataframe se muestra correctamente."
   ]
  },
  {
   "cell_type": "code",
   "execution_count": 35,
   "metadata": {},
   "outputs": [
    {
     "data": {
      "text/html": [
       "<div>\n",
       "<style scoped>\n",
       "    .dataframe tbody tr th:only-of-type {\n",
       "        vertical-align: middle;\n",
       "    }\n",
       "\n",
       "    .dataframe tbody tr th {\n",
       "        vertical-align: top;\n",
       "    }\n",
       "\n",
       "    .dataframe thead th {\n",
       "        text-align: right;\n",
       "    }\n",
       "</style>\n",
       "<table border=\"1\" class=\"dataframe\">\n",
       "  <thead>\n",
       "    <tr style=\"text-align: right;\">\n",
       "      <th></th>\n",
       "      <th>type</th>\n",
       "      <th>fixed acidity</th>\n",
       "      <th>volatile acidity</th>\n",
       "      <th>citric acid</th>\n",
       "      <th>residual sugar</th>\n",
       "      <th>chlorides</th>\n",
       "      <th>free sulfur dioxide</th>\n",
       "      <th>total sulfur dioxide</th>\n",
       "      <th>density</th>\n",
       "      <th>pH</th>\n",
       "      <th>sulphates</th>\n",
       "      <th>alcohol</th>\n",
       "      <th>quality</th>\n",
       "    </tr>\n",
       "  </thead>\n",
       "  <tbody>\n",
       "    <tr>\n",
       "      <th>0</th>\n",
       "      <td>Moscatel</td>\n",
       "      <td>8.1</td>\n",
       "      <td>0.24</td>\n",
       "      <td>0.32</td>\n",
       "      <td>10.5</td>\n",
       "      <td>0.030</td>\n",
       "      <td>34.0</td>\n",
       "      <td>105.0</td>\n",
       "      <td>0.99407</td>\n",
       "      <td>3.11</td>\n",
       "      <td>0.42</td>\n",
       "      <td>11.8</td>\n",
       "      <td>6</td>\n",
       "    </tr>\n",
       "    <tr>\n",
       "      <th>1</th>\n",
       "      <td>Moscatel</td>\n",
       "      <td>5.8</td>\n",
       "      <td>0.23</td>\n",
       "      <td>0.20</td>\n",
       "      <td>2.0</td>\n",
       "      <td>0.043</td>\n",
       "      <td>39.0</td>\n",
       "      <td>154.0</td>\n",
       "      <td>0.99226</td>\n",
       "      <td>3.21</td>\n",
       "      <td>0.39</td>\n",
       "      <td>10.2</td>\n",
       "      <td>6</td>\n",
       "    </tr>\n",
       "    <tr>\n",
       "      <th>2</th>\n",
       "      <td>Moscatel</td>\n",
       "      <td>7.5</td>\n",
       "      <td>0.33</td>\n",
       "      <td>0.36</td>\n",
       "      <td>2.6</td>\n",
       "      <td>0.051</td>\n",
       "      <td>26.0</td>\n",
       "      <td>126.0</td>\n",
       "      <td>0.99097</td>\n",
       "      <td>3.32</td>\n",
       "      <td>0.53</td>\n",
       "      <td>12.7</td>\n",
       "      <td>6</td>\n",
       "    </tr>\n",
       "    <tr>\n",
       "      <th>3</th>\n",
       "      <td>Moscatel</td>\n",
       "      <td>6.6</td>\n",
       "      <td>0.38</td>\n",
       "      <td>0.36</td>\n",
       "      <td>9.2</td>\n",
       "      <td>0.061</td>\n",
       "      <td>42.0</td>\n",
       "      <td>214.0</td>\n",
       "      <td>0.99760</td>\n",
       "      <td>3.31</td>\n",
       "      <td>0.56</td>\n",
       "      <td>9.4</td>\n",
       "      <td>5</td>\n",
       "    </tr>\n",
       "    <tr>\n",
       "      <th>4</th>\n",
       "      <td>Moscatel</td>\n",
       "      <td>6.4</td>\n",
       "      <td>0.15</td>\n",
       "      <td>0.29</td>\n",
       "      <td>1.8</td>\n",
       "      <td>0.044</td>\n",
       "      <td>21.0</td>\n",
       "      <td>115.0</td>\n",
       "      <td>0.99166</td>\n",
       "      <td>3.10</td>\n",
       "      <td>0.38</td>\n",
       "      <td>10.2</td>\n",
       "      <td>5</td>\n",
       "    </tr>\n",
       "  </tbody>\n",
       "</table>\n",
       "</div>"
      ],
      "text/plain": [
       "       type  fixed acidity  volatile acidity  citric acid  residual sugar  \\\n",
       "0  Moscatel            8.1              0.24         0.32            10.5   \n",
       "1  Moscatel            5.8              0.23         0.20             2.0   \n",
       "2  Moscatel            7.5              0.33         0.36             2.6   \n",
       "3  Moscatel            6.6              0.38         0.36             9.2   \n",
       "4  Moscatel            6.4              0.15         0.29             1.8   \n",
       "\n",
       "   chlorides  free sulfur dioxide  total sulfur dioxide  density    pH  \\\n",
       "0      0.030                 34.0                 105.0  0.99407  3.11   \n",
       "1      0.043                 39.0                 154.0  0.99226  3.21   \n",
       "2      0.051                 26.0                 126.0  0.99097  3.32   \n",
       "3      0.061                 42.0                 214.0  0.99760  3.31   \n",
       "4      0.044                 21.0                 115.0  0.99166  3.10   \n",
       "\n",
       "   sulphates alcohol  quality  \n",
       "0       0.42    11.8        6  \n",
       "1       0.39    10.2        6  \n",
       "2       0.53    12.7        6  \n",
       "3       0.56     9.4        5  \n",
       "4       0.38    10.2        5  "
      ]
     },
     "execution_count": 35,
     "metadata": {},
     "output_type": "execute_result"
    }
   ],
   "source": [
    "import pandas as pd\n",
    "\n",
    "# Leemos el archivo .csv con separadores \";\" y lo guardamos en una variable\n",
    "raw_df = pd.read_csv(\"winequality_BDS.csv\", sep=';')\n",
    "\n",
    "# Mostramos las primeras 5 filas del dataset\n",
    "raw_df.head()"
   ]
  },
  {
   "cell_type": "markdown",
   "metadata": {},
   "source": [
    "## Informacion de las variables\n",
    "`raw_df.info()`\n",
    "\n",
    "### Sobre el conjunto de datos\n",
    "Este conjunto de datos contiene 3231 muestras de vino obtenidas mediante pruebas fisicoquímicas en la bodega Del Sol, elaboradas a partir de dos tipos de uva.\n",
    "### Descripción de las variables\n",
    "- `type`: tipo de uva con la que se elabora el vino.\n",
    "- `fixed acidity`: cantidad de ácidos no volátiles presentes en el vino, medida en gramos por litro.\n",
    "- `volatile acidity`: cantidad de ácidos volátiles presentes en el vino, medida en gramos por litro.\n",
    "- `citric acid`: contenido de ácido cítrico en el vino, medido en gramos por litro.\n",
    "- `residual sugar`: cantidad de azúcar que queda en el vino después de la fermentación, medida en gramos por litro.\n",
    "- `chlorides`: concentración de cloruros (sales) en el vino, medida en gramos por litro.\n",
    "- `free sulfur dioxide`: cantidad de dióxido de azufre que no está ligado químicamente en el vino, medida en miligramos por litro.\n",
    "- `total sulfur dioxide` : suma del dióxido de azufre libre y el combinado en el vino, medida en miligramos por litro.\n",
    "- `density`: medida de la masa por unidad de volumen del vino, utilizada para estimar la concentración de sólidos disueltos, medida en gramos por centímetro cúbico.\n",
    "- `pH`: medida de la acidez o alcalinidad del vino.\n",
    "- `sulphates`: concentración de sales de sulfato en el vino, medida en gramos por litro.\n",
    "- `alcohol`: contenido alcohólico del vino, medido en porcentaje de volumen (% vol).\n",
    "- `quality`: puntuación del vino, con una escala que va de 0 a 10."
   ]
  },
  {
   "cell_type": "code",
   "execution_count": 36,
   "metadata": {},
   "outputs": [
    {
     "name": "stdout",
     "output_type": "stream",
     "text": [
      "<class 'pandas.core.frame.DataFrame'>\n",
      "RangeIndex: 3231 entries, 0 to 3230\n",
      "Data columns (total 13 columns):\n",
      " #   Column                Non-Null Count  Dtype  \n",
      "---  ------                --------------  -----  \n",
      " 0   type                  3231 non-null   object \n",
      " 1   fixed acidity         3231 non-null   float64\n",
      " 2   volatile acidity      3231 non-null   float64\n",
      " 3   citric acid           3231 non-null   float64\n",
      " 4   residual sugar        3231 non-null   float64\n",
      " 5   chlorides             3231 non-null   float64\n",
      " 6   free sulfur dioxide   3231 non-null   float64\n",
      " 7   total sulfur dioxide  3231 non-null   float64\n",
      " 8   density               3231 non-null   float64\n",
      " 9   pH                    3231 non-null   float64\n",
      " 10  sulphates             3231 non-null   float64\n",
      " 11  alcohol               3231 non-null   object \n",
      " 12  quality               3231 non-null   int64  \n",
      "dtypes: float64(10), int64(1), object(2)\n",
      "memory usage: 328.3+ KB\n"
     ]
    }
   ],
   "source": [
    "raw_df.info()"
   ]
  },
  {
   "cell_type": "markdown",
   "metadata": {},
   "source": [
    "## Pulir datos\n",
    "\n",
    "Para comenzar a trabajar sobre los datos, antes que nada hacemos una copia del dataframe en crudo. El dataframe sobre el que haremos modificaciones se llamará `df`."
   ]
  },
  {
   "cell_type": "code",
   "execution_count": 37,
   "metadata": {},
   "outputs": [
    {
     "name": "stdout",
     "output_type": "stream",
     "text": [
      "<class 'pandas.core.frame.DataFrame'>\n",
      "RangeIndex: 3231 entries, 0 to 3230\n",
      "Data columns (total 13 columns):\n",
      " #   Column                Non-Null Count  Dtype  \n",
      "---  ------                --------------  -----  \n",
      " 0   type                  3231 non-null   object \n",
      " 1   fixed acidity         3231 non-null   float64\n",
      " 2   volatile acidity      3231 non-null   float64\n",
      " 3   citric acid           3231 non-null   float64\n",
      " 4   residual sugar        3231 non-null   float64\n",
      " 5   chlorides             3231 non-null   float64\n",
      " 6   free sulfur dioxide   3231 non-null   float64\n",
      " 7   total sulfur dioxide  3231 non-null   float64\n",
      " 8   density               3231 non-null   float64\n",
      " 9   pH                    3231 non-null   float64\n",
      " 10  sulphates             3231 non-null   float64\n",
      " 11  alcohol               3231 non-null   object \n",
      " 12  quality               3231 non-null   int64  \n",
      "dtypes: float64(10), int64(1), object(2)\n",
      "memory usage: 328.3+ KB\n"
     ]
    }
   ],
   "source": [
    "# Creamos un nuevo dataframe para trabajar en él.\n",
    "df = raw_df.copy()\n",
    "\n",
    "df.info()"
   ]
  },
  {
   "cell_type": "markdown",
   "metadata": {},
   "source": [
    "### Columna *'type'*\n",
    "Esta variable nos muestra la variedad del vino en cuestion. Es una variable cuantitativa nominal y tiene dos varoles posibles: **\"Moscatel\"** o **\"Syrah\"**. No tiene valores nulos."
   ]
  },
  {
   "cell_type": "code",
   "execution_count": 38,
   "metadata": {},
   "outputs": [
    {
     "data": {
      "text/plain": [
       "type\n",
       "Moscatel    1632\n",
       "Syrah       1599\n",
       "Name: count, dtype: int64"
      ]
     },
     "execution_count": 38,
     "metadata": {},
     "output_type": "execute_result"
    }
   ],
   "source": [
    "df['type'].value_counts()"
   ]
  },
  {
   "cell_type": "markdown",
   "metadata": {},
   "source": [
    "### Columna *'fixed acidity'*\n",
    "Esta columna refleja la cantidad de acidos no volatiles presentes en el vino, medida en gramos por litro. Es una variable cuantitativa continua.\n",
    "\n",
    "- `acido no volatil`: aquellos acidos que no se evaporan facilmente y permanecen en el vino durante su almacenamiento y consumo. Contribuyen al sabor (equilibro entre dulzura y acidez), estructura-longevidad (envejecimiento y preservacion) y a definir textura-frescura "
   ]
  },
  {
   "cell_type": "code",
   "execution_count": 39,
   "metadata": {},
   "outputs": [
    {
     "name": "stdout",
     "output_type": "stream",
     "text": [
      "count    3231.000000\n",
      "mean        7.414082\n",
      "std         1.598760\n",
      "min         3.800000\n",
      "25%         6.400000\n",
      "50%         7.000000\n",
      "75%         8.000000\n",
      "max        15.900000\n",
      "Name: fixed acidity, dtype: float64\n"
     ]
    }
   ],
   "source": [
    "print(df['fixed acidity'].describe())"
   ]
  },
  {
   "cell_type": "markdown",
   "metadata": {},
   "source": [
    "### Columna *'volatile acidity'*\n",
    "Esta columna da la cantidad de acidos volatiles presentes en el vino, medida en gramos por litro. Es una variable cuantitativa continua.\n",
    "\n",
    "- `acido volatil`: (AV) es el conjunto de ácidos grasos de la serie\n",
    "acética que se hallan en el vino libres o combinados formando sales.\n",
    "El más importante es el ácido acético.\n",
    "El olor desagradable a \"picado\" de algunos vinos es debido principalmente al ácido acético y al acetato de etilo. El nivel sensorial\n",
    "de estos compuestos es del orden de 0,6 g/L para el ácido acético\n",
    "y 0,1 g/L para el acetato de etilo. \n",
    "\n",
    "*Para mas informacion, visitar:*\n",
    "- *[Enología - U. de Santiago de Compostela](https://www.usc.gal/caa/MetAnalisisStgo1/enologia.pdf)*\n",
    "- *[Acidos y acidez en el vino - Aprender de vino](https://www.aprenderdevino.es/acidos-acidez-vino/)*"
   ]
  },
  {
   "cell_type": "code",
   "execution_count": 40,
   "metadata": {},
   "outputs": [
    {
     "name": "stdout",
     "output_type": "stream",
     "text": [
      "count    3231.000000\n",
      "mean        0.403802\n",
      "std         0.189421\n",
      "min         0.085000\n",
      "25%         0.260000\n",
      "50%         0.360000\n",
      "75%         0.530000\n",
      "max         1.580000\n",
      "Name: volatile acidity, dtype: float64\n"
     ]
    }
   ],
   "source": [
    "print(df['volatile acidity'].describe())"
   ]
  },
  {
   "cell_type": "markdown",
   "metadata": {},
   "source": [
    "### Columna *'citric acid'*\n",
    "Esta columna muestra la cantidad de acido citrico presente en el vino, medida en gramos por litro. Es una variable cuantitativa continua.\n",
    "- `acido citrico`: Esta escasamente presente en la uva. Se utiliza tambien como acidificante. En cuanto a su dosis no debe superar la cantidad de 1 g/L (limite juridico europeo) y puede presentarse de 20 a 60 g/L. \n",
    "\n",
    "> *Para mas información, visitar:*\n",
    ">    - *[Acido citrico](https://www.vason.com/uploads/MediaGalleryArticoliDocumenti/%C3%81cido%20C%C3%ADtrico%202_es.pdf)*"
   ]
  },
  {
   "cell_type": "code",
   "execution_count": 41,
   "metadata": {},
   "outputs": [
    {
     "name": "stdout",
     "output_type": "stream",
     "text": [
      "count    3231.000000\n",
      "mean        0.288028\n",
      "std         0.156842\n",
      "min         0.000000\n",
      "25%         0.200000\n",
      "50%         0.280000\n",
      "75%         0.370000\n",
      "max         1.000000\n",
      "Name: citric acid, dtype: float64\n"
     ]
    }
   ],
   "source": [
    "print(df['citric acid'].describe())"
   ]
  },
  {
   "cell_type": "markdown",
   "metadata": {},
   "source": [
    "### Columna 'residual sugar'\n",
    "Esta columna da la cantidad de azúcar residual en gramos por litro de vino. Es una variable cuantitativa continua.\n",
    "- `azucar residual`: La uva contiene, al ser vendimiada (proceso de recolección de la uva cuando está madura para hacer vino), unos 200 gramos de azucares por litro de mosto (El mosto es el jugo fresco de la uva que se obtiene después de su prensado y antes de que comience el proceso de fermentación alcohólica. Al fermentar, el azúcar desaparece en gran parte, quedando lo que los enólogos llaman azucares residuales.\n",
    "> *Para mas información, visitar:*\n",
    ">    - *[¿ Sabes lo que es el azucar residual ?](https://www.catadelvino.com/blog-cata-vino/sabes-lo-que-es-el-azucar-residual-de-un-vino)*"
   ]
  },
  {
   "cell_type": "code",
   "execution_count": 42,
   "metadata": {},
   "outputs": [
    {
     "name": "stdout",
     "output_type": "stream",
     "text": [
      "count    3231.000000\n",
      "mean        4.526339\n",
      "std         4.143991\n",
      "min         0.700000\n",
      "25%         1.900000\n",
      "50%         2.500000\n",
      "75%         6.100000\n",
      "max        26.050000\n",
      "Name: residual sugar, dtype: float64\n"
     ]
    }
   ],
   "source": [
    "print(df['residual sugar'].describe())"
   ]
  },
  {
   "cell_type": "markdown",
   "metadata": {},
   "source": [
    "### Columna *'chlorides'*\n",
    "- `cloruros`: medidos en miligramos por litro (mg/L). Es una variable cuantitativa continua.\n",
    "Los cloruros (*\"chlorides\" por su nombre en ingles*) en el vino pueden afectar el sabor y la calidad del mismo, y también pueden ayudar a determinar su origen y las variedades de uva:\n",
    "\n",
    "- **Sabor:**\n",
    "      altas concentraciones de cloruro pueden darle al vino un sabor salado indeseable, lo que puede reducir su atractivo en el mercado. Sin embargo, también se cree que la presencia de cloruro es necesaria para que el sabor salado sea percibido.\n",
    "\n",
    "- **Origen:**\n",
    "      La concentración de cloruro en el vino puede verse influenciada por las condiciones geográficas, geológicas y climáticas del viñedo, como su distancia de la costa, el tipo de suelo y si se riega con agua salada.\n",
    "\n",
    "- **Variedades de uva:**\n",
    "      El tipo de uva utilizado en el vino puede influir en la cantidad de cloruro que contiene.\n",
    "\n",
    "- **Restricciones legales:**\n",
    "      La concentración de cloruro en el vino está regulada por diferentes países. Por ejemplo, el nivel máximo legal de cloruro en el vino terminado es de 606 mg/L.\n",
    "\n",
    "La concentración de cloruro en el vino varía ampliamente, pero raramente supera los 500 mg/L."
   ]
  },
  {
   "cell_type": "code",
   "execution_count": 43,
   "metadata": {},
   "outputs": [
    {
     "data": {
      "text/plain": [
       "count    3231.000000\n",
       "mean        0.066149\n",
       "std         0.041908\n",
       "min         0.009000\n",
       "25%         0.042000\n",
       "50%         0.058000\n",
       "75%         0.080000\n",
       "max         0.611000\n",
       "Name: chlorides, dtype: float64"
      ]
     },
     "execution_count": 43,
     "metadata": {},
     "output_type": "execute_result"
    }
   ],
   "source": [
    "df['chlorides'].describe()"
   ]
  },
  {
   "cell_type": "markdown",
   "metadata": {},
   "source": [
    "### Columna *'free sulfur dioxide'*\n",
    "Esta columna nos indica la cantidad de dióxido de azufre (SO<sub>2</sub>) libre presente en el vino, medido en miligramos por litro (mg/L). Es una variable cuantitativa continua.\n",
    "- `dioxido de azufre`: Se obtiene por oxidación del azufre donde por una combustión del azufre con el oxígeno genera el dióxido de azufre.\n",
    "Es considerado como el primer aditivo de uso enológico, el cual desde los comienzos del tiempo de la enología fue muy útil ya que a partir de su uso, se determinaron menos alteraciones durante las etapas de conservación. Esto se explica gracias a la fuerte acción bactericida que tiene, actualmente se lo sigue considerando como algo indispensable en la enología de nuestros días.\n",
    "En el vino, lo vamos a tener bajo tres formas:\n",
    "    - anhídrido sulfuro libre\n",
    "    - anhídrido sulfuroso combinado\n",
    "    - anhídrido sulfuroso total (que es la suma de los dos anteriores).\n",
    "\n",
    "El anhídrido sulfuroso libre tiene distintas formas, una de ellas es la forma gaseosa, como dióxido de azufre que es soluble en el agua del vino; el ácido sulfuroso; el anión sulfito ácido que proviene de la disociación del ácido sulfuroso; y también en anión sulfito. \n",
    "\n",
    "> *Para mas información, visitar:*\n",
    ">    - *[El Consejo de Enólogos](http://www.consejodeenologos.com.ar/panel/upload/contenidos/pdf/Microsoft_Word___ANHDRIDO_SULFUROSO_1.pdf)*\n",
    ">    - *[Vinetur](https://www.vinetur.com/2016011026759/las-propiedades-del-anhidrido-sulfuroso-en-la-elaboracion-del-vino.html)*"
   ]
  },
  {
   "cell_type": "code",
   "execution_count": 44,
   "metadata": {},
   "outputs": [
    {
     "data": {
      "text/plain": [
       "count    3231.000000\n",
       "mean       25.649335\n",
       "std        17.422288\n",
       "min         1.000000\n",
       "25%        12.000000\n",
       "50%        23.000000\n",
       "75%        35.000000\n",
       "max       289.000000\n",
       "Name: free sulfur dioxide, dtype: float64"
      ]
     },
     "execution_count": 44,
     "metadata": {},
     "output_type": "execute_result"
    }
   ],
   "source": [
    "df['free sulfur dioxide'].describe()"
   ]
  },
  {
   "cell_type": "markdown",
   "metadata": {},
   "source": [
    "### Columna *'total sulfur dioxide'*\n",
    "Esta columna nos indica la cantidad total de dióxido de azufre (SO<sub>2</sub>) total presente en el vino, medido en miligramos por litro (mg/L). Es una variable cuantitativa continua.\n",
    "\n",
    "- `dioxido de azufre total`: está constituido por la suma del anhídrido sulfuroso libre\n",
    "y el anhídrido sulfuroso combinado.\n",
    "\n",
    "> *Para mas información, visitar:*\n",
    ">    - *[El Consejo de Enólogos](http://www.consejodeenologos.com.ar/panel/upload/contenidos/pdf/Microsoft_Word___ANHDRIDO_SULFUROSO_1.pdf)*\n",
    ">    - *[Vinetur](https://www.vinetur.com/2016011026759/las-propiedades-del-anhidrido-sulfuroso-en-la-elaboracion-del-vino.html)*"
   ]
  },
  {
   "cell_type": "code",
   "execution_count": 45,
   "metadata": {},
   "outputs": [
    {
     "data": {
      "text/plain": [
       "count    3231.000000\n",
       "mean       88.349892\n",
       "std        54.633913\n",
       "min         6.000000\n",
       "25%        38.000000\n",
       "50%        89.000000\n",
       "75%       127.000000\n",
       "max       440.000000\n",
       "Name: total sulfur dioxide, dtype: float64"
      ]
     },
     "execution_count": 45,
     "metadata": {},
     "output_type": "execute_result"
    }
   ],
   "source": [
    "df['total sulfur dioxide'].describe()"
   ]
  },
  {
   "cell_type": "markdown",
   "metadata": {},
   "source": [
    "### Columna *'density'*\n",
    "En esta columna podemos ver la densidad del vino, medida en gramos por centímetro cúbico (g/cm<sup>3</sup>). Es una variable cuantitativa continua.\n",
    "\n",
    "- `densidad`: La densidad o peso específico del vino es un parámetro analítico de importancia relativa. Si estrujamos uvas y medimos la densidad de ese mosto comprobamos que pesa más que el agua. Un litro de agua pesa 1.000 gramos y un litro de mosto pesa 994 gramos, pero no siempre es lo mismo. Durante la fermentación, que dura unos diez días, la densidad que parte de 1.100, concluye en 994. La diferencia es el tufo que va a la atmósfera.\n",
    "Pero no todos los vinos acaban su fermentación con la misma densidad, depende de su contenido en alcohol. Si la uva es muy madura tendrá mucho azúcar que formara 14º de alcohol y ese vino tendrá densidad 0,993 que significa que un litro pesará 993 gramos. Por el contrario, si vendimiamos esa uva sin madurar su grado de alcohol será 10º y su densidad de 0,996, lo cual significa que un litro pesa 996 gramos.\n",
    "\n",
    "*Para mas información, visitar [Densidad del vino - La Rioja](https://www.larioja.com/opinion/densidad-vino-20210611214244-nt.html?ref=https%3A%2F%2Fwww.larioja.com%2Fopinion%2Fdensidad-vino-20210611214244-nt.html).*"
   ]
  },
  {
   "cell_type": "code",
   "execution_count": 46,
   "metadata": {},
   "outputs": [
    {
     "data": {
      "text/plain": [
       "count    3231.000000\n",
       "mean        1.901500\n",
       "std         8.747779\n",
       "min         0.987110\n",
       "25%         0.992550\n",
       "50%         0.995500\n",
       "75%         0.997230\n",
       "max       100.369000\n",
       "Name: density, dtype: float64"
      ]
     },
     "execution_count": 46,
     "metadata": {},
     "output_type": "execute_result"
    }
   ],
   "source": [
    "df['density'].describe()"
   ]
  },
  {
   "cell_type": "markdown",
   "metadata": {},
   "source": [
    "### Columna *'pH'*\n",
    "Esta columna nos indica el pH del vino. Es una variable cuantitativa continua.\n",
    "\n",
    "- `pH`: Podemos decir que el pH mide el grado de acidez o de alcalinidad de una disolución obtenida de cualquier elemento o sustancia. Esta unidad de medida se distribuye a lo largo de una escala que va desde el 0 hasta el 14, tomándose el 7 como neutro, siendo los valores más cercanos a 0 los que indican que esa disolución es más ácida y los valores más cercanos a 14 los que indican que esa solución es más alcalina o básica, como también se denomina.\n",
    "El pH de la mayoría de los vinos se encuentra en el intervalo de 2,8 a 4, lo que lógicamente recae en el lado ácido de la escala. Un vino con un pH de 2,8 es extremadamente ácido mientras que uno con un pH en torno a 4 es plano, carente de acidez.\n",
    "\n",
    "> *Para mas información, visitar [pH - Aprender de vino](https://www.aprenderdevino.es/ph-y-vino/).*"
   ]
  },
  {
   "cell_type": "code",
   "execution_count": 47,
   "metadata": {},
   "outputs": [
    {
     "data": {
      "text/plain": [
       "count    3231.000000\n",
       "mean        3.235908\n",
       "std         0.164921\n",
       "min         2.740000\n",
       "25%         3.120000\n",
       "50%         3.230000\n",
       "75%         3.340000\n",
       "max         4.010000\n",
       "Name: pH, dtype: float64"
      ]
     },
     "execution_count": 47,
     "metadata": {},
     "output_type": "execute_result"
    }
   ],
   "source": [
    "df['pH'].describe()"
   ]
  },
  {
   "cell_type": "markdown",
   "metadata": {},
   "source": [
    "### Columna *'sulphates'*\n",
    "Esta columna nos indica la cantidad de sales de sulfato presentes en el vino, medida en gramos por litro. Es una variable cuantitativa continua.\n",
    "- `sales de sulfato`: sulfatos en vinos son variados y dependen del suelo, del metabolismo de la planta, de su capacidad de absorción y de las prácticas enológicas llevadas a cabo en bodega. \n",
    "Segun la fuente citada, las medidas son:\n",
    "    1. Vinos secos: UN GRAMO POR LITRO (1,00 g/l)\n",
    "    2. Vinos edulcorados: UNO CON CINCUENTA GRAMOS POR LITRO (1,50 g/l).\n",
    "    3. Vinos que posean un contenido de azúcares reductores remanentes naturales de fermentación superior a CUATRO GRAMOS POR LITRO (4 g/l): UNO CON CINCUENTA GRAMOS POR LITRO (1,50 g/l).\n",
    "    4. Con añejamiento mínimo de DOS (2) años en barrica: UNO CON CINCUENTA GRAMOS POR LITRO (1,50 g/l).\n",
    "    5. Vinos provenientes de procedimientos especiales de elaboración con denuncia previa ante este Instituto para los controles oficiales pertinentes: DOS GRAMOS POR LITRO (2,00 g/l).\n",
    "\n",
    "*Para mas informacion, visitar [Vinos - Limites Maximos de contenido de cloruros y sulfatos](http://www.allinsa.com/?p=608).).*"
   ]
  },
  {
   "cell_type": "code",
   "execution_count": 48,
   "metadata": {},
   "outputs": [
    {
     "data": {
      "text/plain": [
       "count    3231.000000\n",
       "mean        0.573680\n",
       "std         0.166353\n",
       "min         0.230000\n",
       "25%         0.470000\n",
       "50%         0.550000\n",
       "75%         0.650000\n",
       "max         2.000000\n",
       "Name: sulphates, dtype: float64"
      ]
     },
     "execution_count": 48,
     "metadata": {},
     "output_type": "execute_result"
    }
   ],
   "source": [
    "df['sulphates'].describe()"
   ]
  },
  {
   "cell_type": "markdown",
   "metadata": {},
   "source": [
    "### Columna *'alcohol'*\n",
    "\n",
    "Podemos ver que la columna 'alcohol' a simple vista consta de números reales, sin embargo, está establecida como tipo object, entonces procedemos a modificar su formato a tipo float, para así poder analizar esta variable de una manera adecuada.\n",
    "\n",
    "Antes de hacer la transformación, comprobamos que sea de tipo object y analizamos qué objects tenemos dentro de esta columna. Podemos confirmar que son todos de tipo STR (string). A fin de observar más en detalle los datos de esta columna vemos los valores que son únicos y que se pueden repetir. Ante esto podemos ver que hay muchos valores que no tienen sentido para la muestra ya que el alcohol está definido como: contenido alcohólico del vino, medido en porcentaje de volumen (% vol).\n",
    "\n",
    "Para corregir los valores analizamos dos caminos, uno que el valor definido en string tenga sentido por lo que lo convertiremos en float y por el otro lado que este no tenga manera de ser convertido a float y tampoco tenga sentido en nuestra muestra. Para ello definimos una función que lo que pueda ser convertible a float lo haga y lo que no lo transforme en nan. Invocamos la función con cada valor de la columna alcohol y luego eliminamos las filas con nans. Y verificamos que nuestra muestra ahora tenga sentido y no hayamos perdido muchas filas.\n",
    "\n",
    "Finalmente, pasamos los valores a tipo numérico con el método to_numeric() de pandas."
   ]
  },
  {
   "cell_type": "code",
   "execution_count": 49,
   "metadata": {},
   "outputs": [
    {
     "name": "stdout",
     "output_type": "stream",
     "text": [
      "object\n",
      "alcohol\n",
      "<class 'str'>    3231\n",
      "Name: count, dtype: int64\n",
      "['11.8' '10.2' '12.7' '9.4' '12' '11.3' '10.9' '9.8' '12.2' '11.1' '11.4'\n",
      " '12.8' '10.1' '12.9' '9.2' '12.3' '13.5' '11' '10.6' '12.4' '9.1' '11.2'\n",
      " '10.4' '12.5' '11.6' '12.6' '11.5' '10.5' '12.1' '9.9' '9.5' '10.8'\n",
      " '10.7' '13.2' '10.3' '8.8' '8.5' '13.1' '13' '10' '13.9' '9.6' '13.4'\n",
      " '11.7' '13.6' '13.3' '13.7' '9.7' '9' '11.9' '9.3' '8.7' '8.6' '8.4'\n",
      " '8.9' '14' '14.2' '11.94' '128.933.333.333.333' '114.666.666.666.667'\n",
      " '10.98' '100.333.333.333.333' '114.333.333.333.333' '105.333.333.333.333'\n",
      " '953.333.333.333.333' '109.333.333.333.333' '113.666.666.666.667'\n",
      " '113.333.333.333.333' '110.666.666.666.667' '973.333.333.333.333' '11.05'\n",
      " '9.75' '11.35' '9.55' '10.55' '11.45' '14.05' '123.333.333.333.333'\n",
      " '12.75' '13.8' '12.15' '13.05' '112.666.666.666.667'\n",
      " '105.666.666.666.667' '117.333.333.333.333' '11.75' '10.65'\n",
      " '109.666.666.666.667' '101.333.333.333.333' '10.15' '104.666.666.666.667'\n",
      " '116.333.333.333.333' '12.25' '11.85' '11.65' '13.55'\n",
      " '131.333.333.333.333' '11.95' '120.666.666.666.667' '11.55'\n",
      " '963.333.333.333.333' '12.05' '14.9' '956.666.666.666.667'\n",
      " '135.666.666.666.667' '9.95' '923.333.333.333.333' '9.25' '9.05' '10.75']\n"
     ]
    }
   ],
   "source": [
    "import re\n",
    "import pandas as pd\n",
    "\n",
    "print(df['alcohol'].dtype) # Vemos que tipo de dato es alcohol\n",
    "\n",
    "# Contar y ver los tipos de objetos en la columna 'alcohol'\n",
    "tipos_alcohol = df['alcohol'].apply(type).value_counts()\n",
    "print(tipos_alcohol)\n",
    "\n",
    "# Ver todos los valores de la columna 'alcohol'\n",
    "print(df['alcohol'].unique())\n"
   ]
  },
  {
   "cell_type": "code",
   "execution_count": 50,
   "metadata": {},
   "outputs": [
    {
     "name": "stdout",
     "output_type": "stream",
     "text": [
      "float64\n",
      "alcohol\n",
      "<class 'float'>    3191\n",
      "Name: count, dtype: int64\n",
      "[11.8  10.2  12.7   9.4  12.   11.3  10.9   9.8  12.2  11.1  11.4  12.8\n",
      " 10.1  12.9   9.2  12.3  13.5  11.   10.6  12.4   9.1  11.2  10.4  12.5\n",
      " 11.6  12.6  11.5  10.5  12.1   9.9   9.5  10.8  10.7  13.2  10.3   8.8\n",
      "  8.5  13.1  13.   10.   13.9   9.6  13.4  11.7  13.6  13.3  13.7   9.7\n",
      "  9.   11.9   9.3   8.7   8.6   8.4   8.9  14.   14.2  11.94 10.98 11.05\n",
      "  9.75 11.35  9.55 10.55 11.45 14.05 12.75 13.8  12.15 13.05 11.75 10.65\n",
      " 10.15 12.25 11.85 11.65 13.55 11.95 11.55 12.05 14.9   9.95  9.25  9.05\n",
      " 10.75]\n"
     ]
    }
   ],
   "source": [
    "import re\n",
    "import pandas as pd\n",
    "\n",
    "# Función para limpiar y convertir a float\n",
    "def limpiar_y_convertir(valor):\n",
    "    try:\n",
    "        # Reemplazar comas por puntos\n",
    "        valor = re.sub(r',', '.', valor)\n",
    "        # Convertir a float\n",
    "        return float(valor)\n",
    "    except ValueError:\n",
    "        # Si no se puede convertir, devolver NaN\n",
    "        return float('nan')\n",
    "\n",
    "# Aplicar la función a la columna 'alcohol'\n",
    "df['alcohol'] = df['alcohol'].apply(limpiar_y_convertir)\n",
    "\n",
    "# Eliminar filas con valores NaN en la columna 'alcohol'\n",
    "df = df.dropna(subset=['alcohol'])\n",
    "\n",
    "print(df['alcohol'].dtype) # Vemos que tipo de dato es alcohol\n",
    "\n",
    "# Contar y ver los tipos de objetos en la columna 'alcohol'\n",
    "tipos_alcohol = df['alcohol'].apply(type).value_counts()\n",
    "print(tipos_alcohol)\n",
    "\n",
    "# Ver todos los valores de la columna 'alcohol'\n",
    "print(df['alcohol'].unique())\n"
   ]
  },
  {
   "cell_type": "markdown",
   "metadata": {},
   "source": [
    "- `alcohol`: contenido alcohólico del vino, medido en porcentaje de volumen (% vol).Este rasgo de los vinos está regulado por una normativa específica que establece ciertos limites al respecto, concretamente a cargo de la Organización Internacional del Vino (OIV) y del comité regulador de cada Denominación de Origen (DO). No obstante, y de una forma generalizada, los vinos no suelen exceder los 15% vol. o 15 grados de alcohol, debido a que es lo máximo que alcanzan durante la fermentación.\n",
    "\n",
    "*Para mas informacion, visitar [¿ Que es la graduacion alcoholica del vino ? ](https://www.debuenavid.es/blog/elaboracion-del-vino/graduacion-alcoholica-vino#%C2%BFQue_es_la_graduacion_alcoholica_del_vino).).*\n"
   ]
  },
  {
   "cell_type": "code",
   "execution_count": 51,
   "metadata": {},
   "outputs": [
    {
     "data": {
      "text/plain": [
       "count    3191.000000\n",
       "mean       10.630809\n",
       "std         1.212548\n",
       "min         8.400000\n",
       "25%         9.500000\n",
       "50%        10.500000\n",
       "75%        11.400000\n",
       "max        14.900000\n",
       "Name: alcohol, dtype: float64"
      ]
     },
     "execution_count": 51,
     "metadata": {},
     "output_type": "execute_result"
    }
   ],
   "source": [
    "#Ahora si hagamos un describe de la columna alcohol.\n",
    "\n",
    "df['alcohol'].describe()"
   ]
  },
  {
   "cell_type": "code",
   "execution_count": 52,
   "metadata": {},
   "outputs": [
    {
     "data": {
      "image/png": "[encoded data removed]",
      "text/plain": [
       "<Figure size 1000x600 with 1 Axes>"
      ]
     },
     "metadata": {},
     "output_type": "display_data"
    }
   ],
   "source": [
    "import matplotlib.pyplot as plt\n",
    "import numpy as np\n",
    "\n",
    "#Boxplot de la columna 'alcohol'\n",
    "plt.figure(figsize=(10, 6))\n",
    "plt.boxplot(df['alcohol'])\n",
    "plt.title('Boxplot de \"alcohol\"')\n",
    "plt.ylabel('alcohol')\n",
    "\n",
    "# Añadir la grilla\n",
    "plt.grid(True)\n",
    "\n",
    "# Mostrar el gráfico\n",
    "plt.show()\n"
   ]
  },
  {
   "cell_type": "markdown",
   "metadata": {},
   "source": [
    "### Columna *'quality'*\n",
    "Esta columna nos indica la calidad del vino, con una escala que va de 0 a 10. Es una variable cuantitativa discreta."
   ]
  },
  {
   "cell_type": "code",
   "execution_count": 53,
   "metadata": {},
   "outputs": [
    {
     "data": {
      "text/plain": [
       "count    3191.000000\n",
       "mean        5.782827\n",
       "std         0.830549\n",
       "min         3.000000\n",
       "25%         5.000000\n",
       "50%         6.000000\n",
       "75%         6.000000\n",
       "max         8.000000\n",
       "Name: quality, dtype: float64"
      ]
     },
     "execution_count": 53,
     "metadata": {},
     "output_type": "execute_result"
    }
   ],
   "source": [
    "df['quality'].describe()"
   ]
  },
  {
   "cell_type": "markdown",
   "metadata": {},
   "source": [
    "## Descripcion de las variables numericas\n",
    "`describe()` del dataframe."
   ]
  },
  {
   "cell_type": "code",
   "execution_count": 55,
   "metadata": {},
   "outputs": [
    {
     "data": {
      "text/html": [
       "<div>\n",
       "<style scoped>\n",
       "    .dataframe tbody tr th:only-of-type {\n",
       "        vertical-align: middle;\n",
       "    }\n",
       "\n",
       "    .dataframe tbody tr th {\n",
       "        vertical-align: top;\n",
       "    }\n",
       "\n",
       "    .dataframe thead th {\n",
       "        text-align: right;\n",
       "    }\n",
       "</style>\n",
       "<table border=\"1\" class=\"dataframe\">\n",
       "  <thead>\n",
       "    <tr style=\"text-align: right;\">\n",
       "      <th></th>\n",
       "      <th>fixed acidity</th>\n",
       "      <th>volatile acidity</th>\n",
       "      <th>citric acid</th>\n",
       "      <th>residual sugar</th>\n",
       "      <th>chlorides</th>\n",
       "      <th>free sulfur dioxide</th>\n",
       "      <th>total sulfur dioxide</th>\n",
       "      <th>density</th>\n",
       "      <th>pH</th>\n",
       "      <th>sulphates</th>\n",
       "      <th>alcohol</th>\n",
       "      <th>quality</th>\n",
       "    </tr>\n",
       "  </thead>\n",
       "  <tbody>\n",
       "    <tr>\n",
       "      <th>count</th>\n",
       "      <td>1598.000000</td>\n",
       "      <td>1598.000000</td>\n",
       "      <td>1598.000000</td>\n",
       "      <td>1598.000000</td>\n",
       "      <td>1598.000000</td>\n",
       "      <td>1598.000000</td>\n",
       "      <td>1598.000000</td>\n",
       "      <td>1598.000000</td>\n",
       "      <td>1598.000000</td>\n",
       "      <td>1598.000000</td>\n",
       "      <td>1598.000000</td>\n",
       "      <td>1598.000000</td>\n",
       "    </tr>\n",
       "    <tr>\n",
       "      <th>mean</th>\n",
       "      <td>6.533292</td>\n",
       "      <td>0.282193</td>\n",
       "      <td>0.304731</td>\n",
       "      <td>6.496558</td>\n",
       "      <td>0.045308</td>\n",
       "      <td>35.150188</td>\n",
       "      <td>129.273780</td>\n",
       "      <td>1.613447</td>\n",
       "      <td>3.161633</td>\n",
       "      <td>0.490232</td>\n",
       "      <td>10.838586</td>\n",
       "      <td>5.931164</td>\n",
       "    </tr>\n",
       "    <tr>\n",
       "      <th>std</th>\n",
       "      <td>0.705888</td>\n",
       "      <td>0.099157</td>\n",
       "      <td>0.104933</td>\n",
       "      <td>4.960438</td>\n",
       "      <td>0.020784</td>\n",
       "      <td>17.621924</td>\n",
       "      <td>38.077636</td>\n",
       "      <td>7.818225</td>\n",
       "      <td>0.139785</td>\n",
       "      <td>0.112730</td>\n",
       "      <td>1.312233</td>\n",
       "      <td>0.826316</td>\n",
       "    </tr>\n",
       "    <tr>\n",
       "      <th>min</th>\n",
       "      <td>3.800000</td>\n",
       "      <td>0.085000</td>\n",
       "      <td>0.000000</td>\n",
       "      <td>0.700000</td>\n",
       "      <td>0.009000</td>\n",
       "      <td>2.000000</td>\n",
       "      <td>9.000000</td>\n",
       "      <td>0.987110</td>\n",
       "      <td>2.790000</td>\n",
       "      <td>0.230000</td>\n",
       "      <td>8.400000</td>\n",
       "      <td>3.000000</td>\n",
       "    </tr>\n",
       "    <tr>\n",
       "      <th>25%</th>\n",
       "      <td>6.100000</td>\n",
       "      <td>0.220000</td>\n",
       "      <td>0.250000</td>\n",
       "      <td>1.900000</td>\n",
       "      <td>0.035000</td>\n",
       "      <td>23.000000</td>\n",
       "      <td>103.000000</td>\n",
       "      <td>0.990923</td>\n",
       "      <td>3.070000</td>\n",
       "      <td>0.410000</td>\n",
       "      <td>9.600000</td>\n",
       "      <td>5.000000</td>\n",
       "    </tr>\n",
       "    <tr>\n",
       "      <th>50%</th>\n",
       "      <td>6.500000</td>\n",
       "      <td>0.270000</td>\n",
       "      <td>0.290000</td>\n",
       "      <td>5.400000</td>\n",
       "      <td>0.043000</td>\n",
       "      <td>33.000000</td>\n",
       "      <td>124.000000</td>\n",
       "      <td>0.992785</td>\n",
       "      <td>3.160000</td>\n",
       "      <td>0.480000</td>\n",
       "      <td>10.800000</td>\n",
       "      <td>6.000000</td>\n",
       "    </tr>\n",
       "    <tr>\n",
       "      <th>75%</th>\n",
       "      <td>6.900000</td>\n",
       "      <td>0.330000</td>\n",
       "      <td>0.340000</td>\n",
       "      <td>9.900000</td>\n",
       "      <td>0.050000</td>\n",
       "      <td>45.000000</td>\n",
       "      <td>154.000000</td>\n",
       "      <td>0.995440</td>\n",
       "      <td>3.247500</td>\n",
       "      <td>0.550000</td>\n",
       "      <td>11.837500</td>\n",
       "      <td>6.000000</td>\n",
       "    </tr>\n",
       "    <tr>\n",
       "      <th>max</th>\n",
       "      <td>9.400000</td>\n",
       "      <td>1.100000</td>\n",
       "      <td>1.000000</td>\n",
       "      <td>26.050000</td>\n",
       "      <td>0.271000</td>\n",
       "      <td>289.000000</td>\n",
       "      <td>440.000000</td>\n",
       "      <td>100.295000</td>\n",
       "      <td>3.760000</td>\n",
       "      <td>1.080000</td>\n",
       "      <td>14.200000</td>\n",
       "      <td>8.000000</td>\n",
       "    </tr>\n",
       "  </tbody>\n",
       "</table>\n",
       "</div>"
      ],
      "text/plain": [
       "       fixed acidity  volatile acidity  citric acid  residual sugar  \\\n",
       "count    1598.000000       1598.000000  1598.000000     1598.000000   \n",
       "mean        6.533292          0.282193     0.304731        6.496558   \n",
       "std         0.705888          0.099157     0.104933        4.960438   \n",
       "min         3.800000          0.085000     0.000000        0.700000   \n",
       "25%         6.100000          0.220000     0.250000        1.900000   \n",
       "50%         6.500000          0.270000     0.290000        5.400000   \n",
       "75%         6.900000          0.330000     0.340000        9.900000   \n",
       "max         9.400000          1.100000     1.000000       26.050000   \n",
       "\n",
       "         chlorides  free sulfur dioxide  total sulfur dioxide      density  \\\n",
       "count  1598.000000          1598.000000           1598.000000  1598.000000   \n",
       "mean      0.045308            35.150188            129.273780     1.613447   \n",
       "std       0.020784            17.621924             38.077636     7.818225   \n",
       "min       0.009000             2.000000              9.000000     0.987110   \n",
       "25%       0.035000            23.000000            103.000000     0.990923   \n",
       "50%       0.043000            33.000000            124.000000     0.992785   \n",
       "75%       0.050000            45.000000            154.000000     0.995440   \n",
       "max       0.271000           289.000000            440.000000   100.295000   \n",
       "\n",
       "                pH    sulphates      alcohol      quality  \n",
       "count  1598.000000  1598.000000  1598.000000  1598.000000  \n",
       "mean      3.161633     0.490232    10.838586     5.931164  \n",
       "std       0.139785     0.112730     1.312233     0.826316  \n",
       "min       2.790000     0.230000     8.400000     3.000000  \n",
       "25%       3.070000     0.410000     9.600000     5.000000  \n",
       "50%       3.160000     0.480000    10.800000     6.000000  \n",
       "75%       3.247500     0.550000    11.837500     6.000000  \n",
       "max       3.760000     1.080000    14.200000     8.000000  "
      ]
     },
     "execution_count": 55,
     "metadata": {},
     "output_type": "execute_result"
    }
   ],
   "source": [
    "df_agrupado_type = df.groupby('type')\n",
    "\n",
    "df_agrupado_type.get_group('Moscatel').describe()"
   ]
  },
  {
   "cell_type": "code",
   "execution_count": 56,
   "metadata": {},
   "outputs": [
    {
     "data": {
      "text/html": [
       "<div>\n",
       "<style scoped>\n",
       "    .dataframe tbody tr th:only-of-type {\n",
       "        vertical-align: middle;\n",
       "    }\n",
       "\n",
       "    .dataframe tbody tr th {\n",
       "        vertical-align: top;\n",
       "    }\n",
       "\n",
       "    .dataframe thead th {\n",
       "        text-align: right;\n",
       "    }\n",
       "</style>\n",
       "<table border=\"1\" class=\"dataframe\">\n",
       "  <thead>\n",
       "    <tr style=\"text-align: right;\">\n",
       "      <th></th>\n",
       "      <th>fixed acidity</th>\n",
       "      <th>volatile acidity</th>\n",
       "      <th>citric acid</th>\n",
       "      <th>residual sugar</th>\n",
       "      <th>chlorides</th>\n",
       "      <th>free sulfur dioxide</th>\n",
       "      <th>total sulfur dioxide</th>\n",
       "      <th>density</th>\n",
       "      <th>pH</th>\n",
       "      <th>sulphates</th>\n",
       "      <th>alcohol</th>\n",
       "      <th>quality</th>\n",
       "    </tr>\n",
       "  </thead>\n",
       "  <tbody>\n",
       "    <tr>\n",
       "      <th>count</th>\n",
       "      <td>1593.000000</td>\n",
       "      <td>1593.000000</td>\n",
       "      <td>1593.000000</td>\n",
       "      <td>1593.000000</td>\n",
       "      <td>1593.000000</td>\n",
       "      <td>1593.000000</td>\n",
       "      <td>1593.000000</td>\n",
       "      <td>1593.000000</td>\n",
       "      <td>1593.000000</td>\n",
       "      <td>1593.000000</td>\n",
       "      <td>1593.000000</td>\n",
       "      <td>1593.000000</td>\n",
       "    </tr>\n",
       "    <tr>\n",
       "      <th>mean</th>\n",
       "      <td>8.319523</td>\n",
       "      <td>0.527476</td>\n",
       "      <td>0.271161</td>\n",
       "      <td>2.538010</td>\n",
       "      <td>0.087501</td>\n",
       "      <td>15.875706</td>\n",
       "      <td>46.391714</td>\n",
       "      <td>2.213269</td>\n",
       "      <td>3.311224</td>\n",
       "      <td>0.658054</td>\n",
       "      <td>10.422379</td>\n",
       "      <td>5.634024</td>\n",
       "    </tr>\n",
       "    <tr>\n",
       "      <th>std</th>\n",
       "      <td>1.738144</td>\n",
       "      <td>0.179059</td>\n",
       "      <td>0.194954</td>\n",
       "      <td>1.409835</td>\n",
       "      <td>0.047140</td>\n",
       "      <td>10.466847</td>\n",
       "      <td>32.885012</td>\n",
       "      <td>9.681967</td>\n",
       "      <td>0.154190</td>\n",
       "      <td>0.169692</td>\n",
       "      <td>1.063917</td>\n",
       "      <td>0.808107</td>\n",
       "    </tr>\n",
       "    <tr>\n",
       "      <th>min</th>\n",
       "      <td>4.600000</td>\n",
       "      <td>0.120000</td>\n",
       "      <td>0.000000</td>\n",
       "      <td>0.900000</td>\n",
       "      <td>0.012000</td>\n",
       "      <td>1.000000</td>\n",
       "      <td>6.000000</td>\n",
       "      <td>0.990070</td>\n",
       "      <td>2.740000</td>\n",
       "      <td>0.330000</td>\n",
       "      <td>8.400000</td>\n",
       "      <td>3.000000</td>\n",
       "    </tr>\n",
       "    <tr>\n",
       "      <th>25%</th>\n",
       "      <td>7.100000</td>\n",
       "      <td>0.390000</td>\n",
       "      <td>0.090000</td>\n",
       "      <td>1.900000</td>\n",
       "      <td>0.070000</td>\n",
       "      <td>7.000000</td>\n",
       "      <td>22.000000</td>\n",
       "      <td>0.995600</td>\n",
       "      <td>3.210000</td>\n",
       "      <td>0.550000</td>\n",
       "      <td>9.500000</td>\n",
       "      <td>5.000000</td>\n",
       "    </tr>\n",
       "    <tr>\n",
       "      <th>50%</th>\n",
       "      <td>7.900000</td>\n",
       "      <td>0.520000</td>\n",
       "      <td>0.260000</td>\n",
       "      <td>2.200000</td>\n",
       "      <td>0.079000</td>\n",
       "      <td>14.000000</td>\n",
       "      <td>38.000000</td>\n",
       "      <td>0.996750</td>\n",
       "      <td>3.310000</td>\n",
       "      <td>0.620000</td>\n",
       "      <td>10.200000</td>\n",
       "      <td>6.000000</td>\n",
       "    </tr>\n",
       "    <tr>\n",
       "      <th>75%</th>\n",
       "      <td>9.200000</td>\n",
       "      <td>0.640000</td>\n",
       "      <td>0.420000</td>\n",
       "      <td>2.600000</td>\n",
       "      <td>0.090000</td>\n",
       "      <td>21.000000</td>\n",
       "      <td>62.000000</td>\n",
       "      <td>0.997840</td>\n",
       "      <td>3.400000</td>\n",
       "      <td>0.730000</td>\n",
       "      <td>11.100000</td>\n",
       "      <td>6.000000</td>\n",
       "    </tr>\n",
       "    <tr>\n",
       "      <th>max</th>\n",
       "      <td>15.900000</td>\n",
       "      <td>1.580000</td>\n",
       "      <td>1.000000</td>\n",
       "      <td>15.500000</td>\n",
       "      <td>0.611000</td>\n",
       "      <td>72.000000</td>\n",
       "      <td>289.000000</td>\n",
       "      <td>100.369000</td>\n",
       "      <td>4.010000</td>\n",
       "      <td>2.000000</td>\n",
       "      <td>14.900000</td>\n",
       "      <td>8.000000</td>\n",
       "    </tr>\n",
       "  </tbody>\n",
       "</table>\n",
       "</div>"
      ],
      "text/plain": [
       "       fixed acidity  volatile acidity  citric acid  residual sugar  \\\n",
       "count    1593.000000       1593.000000  1593.000000     1593.000000   \n",
       "mean        8.319523          0.527476     0.271161        2.538010   \n",
       "std         1.738144          0.179059     0.194954        1.409835   \n",
       "min         4.600000          0.120000     0.000000        0.900000   \n",
       "25%         7.100000          0.390000     0.090000        1.900000   \n",
       "50%         7.900000          0.520000     0.260000        2.200000   \n",
       "75%         9.200000          0.640000     0.420000        2.600000   \n",
       "max        15.900000          1.580000     1.000000       15.500000   \n",
       "\n",
       "         chlorides  free sulfur dioxide  total sulfur dioxide      density  \\\n",
       "count  1593.000000          1593.000000           1593.000000  1593.000000   \n",
       "mean      0.087501            15.875706             46.391714     2.213269   \n",
       "std       0.047140            10.466847             32.885012     9.681967   \n",
       "min       0.012000             1.000000              6.000000     0.990070   \n",
       "25%       0.070000             7.000000             22.000000     0.995600   \n",
       "50%       0.079000            14.000000             38.000000     0.996750   \n",
       "75%       0.090000            21.000000             62.000000     0.997840   \n",
       "max       0.611000            72.000000            289.000000   100.369000   \n",
       "\n",
       "                pH    sulphates      alcohol      quality  \n",
       "count  1593.000000  1593.000000  1593.000000  1593.000000  \n",
       "mean      3.311224     0.658054    10.422379     5.634024  \n",
       "std       0.154190     0.169692     1.063917     0.808107  \n",
       "min       2.740000     0.330000     8.400000     3.000000  \n",
       "25%       3.210000     0.550000     9.500000     5.000000  \n",
       "50%       3.310000     0.620000    10.200000     6.000000  \n",
       "75%       3.400000     0.730000    11.100000     6.000000  \n",
       "max       4.010000     2.000000    14.900000     8.000000  "
      ]
     },
     "execution_count": 56,
     "metadata": {},
     "output_type": "execute_result"
    }
   ],
   "source": [
    "df_agrupado_type.get_group('Syrah').describe()"
   ]
  }
 ],
 "metadata": {
  "kernelspec": {
   "display_name": "venv_tpe",
   "language": "python",
   "name": "python3"
  },
  "language_info": {
   "codemirror_mode": {
    "name": "ipython",
    "version": 3
   },
   "file_extension": ".py",
   "mimetype": "text/x-python",
   "name": "python",
   "nbconvert_exporter": "python",
   "pygments_lexer": "ipython3",
   "version": "3.12.5"
  }
 },
 "nbformat": 4,
 "nbformat_minor": 2
}
