{
 "cells": [
  {
   "cell_type": "markdown",
   "metadata": {},
   "source": [
    "# PREPROCESAMIENTO DE DATOS\n",
    "Abiendo el archivo *.csv*, vimos que el mismo usaba como separadores el punto y coma (;), en lugar de la coma tradicional (,). Por lo tanto, al leer el archivo (usando la función de pandas `pd.read_csv()`), se debe especificar el separador a utilizar. Para esto agregamos el parámetro `sep=';'` y así vemos que el dataframe se muestra correctamente."
   ]
  },
  {
   "cell_type": "code",
   "execution_count": 1,
   "metadata": {},
   "outputs": [
    {
     "data": {
      "text/html": [
       "<div>\n",
       "<style scoped>\n",
       "    .dataframe tbody tr th:only-of-type {\n",
       "        vertical-align: middle;\n",
       "    }\n",
       "\n",
       "    .dataframe tbody tr th {\n",
       "        vertical-align: top;\n",
       "    }\n",
       "\n",
       "    .dataframe thead th {\n",
       "        text-align: right;\n",
       "    }\n",
       "</style>\n",
       "<table border=\"1\" class=\"dataframe\">\n",
       "  <thead>\n",
       "    <tr style=\"text-align: right;\">\n",
       "      <th></th>\n",
       "      <th>type</th>\n",
       "      <th>fixed acidity</th>\n",
       "      <th>volatile acidity</th>\n",
       "      <th>citric acid</th>\n",
       "      <th>residual sugar</th>\n",
       "      <th>chlorides</th>\n",
       "      <th>free sulfur dioxide</th>\n",
       "      <th>total sulfur dioxide</th>\n",
       "      <th>density</th>\n",
       "      <th>pH</th>\n",
       "      <th>sulphates</th>\n",
       "      <th>alcohol</th>\n",
       "      <th>quality</th>\n",
       "    </tr>\n",
       "  </thead>\n",
       "  <tbody>\n",
       "    <tr>\n",
       "      <th>0</th>\n",
       "      <td>Moscatel</td>\n",
       "      <td>8.1</td>\n",
       "      <td>0.24</td>\n",
       "      <td>0.32</td>\n",
       "      <td>10.5</td>\n",
       "      <td>0.030</td>\n",
       "      <td>34.0</td>\n",
       "      <td>105.0</td>\n",
       "      <td>0.99407</td>\n",
       "      <td>3.11</td>\n",
       "      <td>0.42</td>\n",
       "      <td>11.8</td>\n",
       "      <td>6</td>\n",
       "    </tr>\n",
       "    <tr>\n",
       "      <th>1</th>\n",
       "      <td>Moscatel</td>\n",
       "      <td>5.8</td>\n",
       "      <td>0.23</td>\n",
       "      <td>0.20</td>\n",
       "      <td>2.0</td>\n",
       "      <td>0.043</td>\n",
       "      <td>39.0</td>\n",
       "      <td>154.0</td>\n",
       "      <td>0.99226</td>\n",
       "      <td>3.21</td>\n",
       "      <td>0.39</td>\n",
       "      <td>10.2</td>\n",
       "      <td>6</td>\n",
       "    </tr>\n",
       "    <tr>\n",
       "      <th>2</th>\n",
       "      <td>Moscatel</td>\n",
       "      <td>7.5</td>\n",
       "      <td>0.33</td>\n",
       "      <td>0.36</td>\n",
       "      <td>2.6</td>\n",
       "      <td>0.051</td>\n",
       "      <td>26.0</td>\n",
       "      <td>126.0</td>\n",
       "      <td>0.99097</td>\n",
       "      <td>3.32</td>\n",
       "      <td>0.53</td>\n",
       "      <td>12.7</td>\n",
       "      <td>6</td>\n",
       "    </tr>\n",
       "    <tr>\n",
       "      <th>3</th>\n",
       "      <td>Moscatel</td>\n",
       "      <td>6.6</td>\n",
       "      <td>0.38</td>\n",
       "      <td>0.36</td>\n",
       "      <td>9.2</td>\n",
       "      <td>0.061</td>\n",
       "      <td>42.0</td>\n",
       "      <td>214.0</td>\n",
       "      <td>0.99760</td>\n",
       "      <td>3.31</td>\n",
       "      <td>0.56</td>\n",
       "      <td>9.4</td>\n",
       "      <td>5</td>\n",
       "    </tr>\n",
       "    <tr>\n",
       "      <th>4</th>\n",
       "      <td>Moscatel</td>\n",
       "      <td>6.4</td>\n",
       "      <td>0.15</td>\n",
       "      <td>0.29</td>\n",
       "      <td>1.8</td>\n",
       "      <td>0.044</td>\n",
       "      <td>21.0</td>\n",
       "      <td>115.0</td>\n",
       "      <td>0.99166</td>\n",
       "      <td>3.10</td>\n",
       "      <td>0.38</td>\n",
       "      <td>10.2</td>\n",
       "      <td>5</td>\n",
       "    </tr>\n",
       "  </tbody>\n",
       "</table>\n",
       "</div>"
      ],
      "text/plain": [
       "       type  fixed acidity  volatile acidity  citric acid  residual sugar  \\\n",
       "0  Moscatel            8.1              0.24         0.32            10.5   \n",
       "1  Moscatel            5.8              0.23         0.20             2.0   \n",
       "2  Moscatel            7.5              0.33         0.36             2.6   \n",
       "3  Moscatel            6.6              0.38         0.36             9.2   \n",
       "4  Moscatel            6.4              0.15         0.29             1.8   \n",
       "\n",
       "   chlorides  free sulfur dioxide  total sulfur dioxide  density    pH  \\\n",
       "0      0.030                 34.0                 105.0  0.99407  3.11   \n",
       "1      0.043                 39.0                 154.0  0.99226  3.21   \n",
       "2      0.051                 26.0                 126.0  0.99097  3.32   \n",
       "3      0.061                 42.0                 214.0  0.99760  3.31   \n",
       "4      0.044                 21.0                 115.0  0.99166  3.10   \n",
       "\n",
       "   sulphates alcohol  quality  \n",
       "0       0.42    11.8        6  \n",
       "1       0.39    10.2        6  \n",
       "2       0.53    12.7        6  \n",
       "3       0.56     9.4        5  \n",
       "4       0.38    10.2        5  "
      ]
     },
     "execution_count": 1,
     "metadata": {},
     "output_type": "execute_result"
    }
   ],
   "source": [
    "import pandas as pd\n",
    "\n",
    "# Leemos el archivo .csv con separadores \";\" y lo guardamos en una variable\n",
    "raw_df = pd.read_csv(\"winequality_BDS.csv\", sep=';')\n",
    "\n",
    "# Mostramos las primeras 5 filas del dataset\n",
    "raw_df.head()"
   ]
  },
  {
   "cell_type": "markdown",
   "metadata": {},
   "source": [
    "## Informacion de las variables\n",
    "`raw_df.info()`\n",
    "\n",
    "###Sobre el conjunto de datos\n",
    "Este conjunto de datos contiene 3231 muestras de vino obtenidas mediante pruebas fisicoquímicas en la bodega Del Sol, elaboradas a partir de dos tipos de uva.\n",
    "###Descripción de las variables\n",
    "- `type`: tipo de uva con la que se elabora el vino.\n",
    "- `fixed acidity`: cantidad de ácidos no volátiles presentes en el vino, medida en gramos por litro.\n",
    "- `volatile acidity`: cantidad de ácidos volátiles presentes en el vino, medida en gramos por litro.\n",
    "- `citric acid`: contenido de ácido cítrico en el vino, medido en gramos por litro.\n",
    "- `residual sugar`: cantidad de azúcar que queda en el vino después de la fermentación, medida en gramos por litro.\n",
    "- `chlorides`: concentración de cloruros (sales) en el vino, medida en gramos por litro.\n",
    "- `free sulfur dioxide`: cantidad de dióxido de azufre que no está ligado químicamente en el vino, medida en miligramos por litro.\n",
    "- `total sulfur dioxide` : suma del dióxido de azufre libre y el combinado en el vino, medida en miligramos por litro.\n",
    "- `density`: medida de la masa por unidad de volumen del vino, utilizada para estimar la concentración de sólidos disueltos, medida en gramos por centímetro cúbico.\n",
    "- `pH`: medida de la acidez o alcalinidad del vino.\n",
    "- `sulphates`: concentración de sales de sulfato en el vino, medida en gramos por litro.\n",
    "- `alcohol`: contenido alcohólico del vino, medido en porcentaje de volumen (% vol).\n",
    "- `quality`: puntuación del vino, con una escala que va de 0 a 10."
   ]
  },
  {
   "cell_type": "code",
   "execution_count": 3,
   "metadata": {},
   "outputs": [
    {
     "name": "stdout",
     "output_type": "stream",
     "text": [
      "<class 'pandas.core.frame.DataFrame'>\n",
      "RangeIndex: 3231 entries, 0 to 3230\n",
      "Data columns (total 13 columns):\n",
      " #   Column                Non-Null Count  Dtype  \n",
      "---  ------                --------------  -----  \n",
      " 0   type                  3231 non-null   object \n",
      " 1   fixed acidity         3231 non-null   float64\n",
      " 2   volatile acidity      3231 non-null   float64\n",
      " 3   citric acid           3231 non-null   float64\n",
      " 4   residual sugar        3231 non-null   float64\n",
      " 5   chlorides             3231 non-null   float64\n",
      " 6   free sulfur dioxide   3231 non-null   float64\n",
      " 7   total sulfur dioxide  3231 non-null   float64\n",
      " 8   density               3231 non-null   float64\n",
      " 9   pH                    3231 non-null   float64\n",
      " 10  sulphates             3231 non-null   float64\n",
      " 11  alcohol               3231 non-null   object \n",
      " 12  quality               3231 non-null   int64  \n",
      "dtypes: float64(10), int64(1), object(2)\n",
      "memory usage: 328.3+ KB\n"
     ]
    }
   ],
   "source": [
    "raw_df.info()"
   ]
  },
  {
   "cell_type": "markdown",
   "metadata": {},
   "source": [
    "## Pulir datos\n",
    "\n",
    "Para comenzar a trabajar sobre los datos, antes que nada hacemos una copia del dataframe en crudo. El dataframe sobre el que haremos modificaciones se llamará `df`."
   ]
  },
  {
   "cell_type": "code",
   "execution_count": 2,
   "metadata": {},
   "outputs": [
    {
     "name": "stdout",
     "output_type": "stream",
     "text": [
      "<class 'pandas.core.frame.DataFrame'>\n",
      "RangeIndex: 3231 entries, 0 to 3230\n",
      "Data columns (total 13 columns):\n",
      " #   Column                Non-Null Count  Dtype  \n",
      "---  ------                --------------  -----  \n",
      " 0   type                  3231 non-null   object \n",
      " 1   fixed acidity         3231 non-null   float64\n",
      " 2   volatile acidity      3231 non-null   float64\n",
      " 3   citric acid           3231 non-null   float64\n",
      " 4   residual sugar        3231 non-null   float64\n",
      " 5   chlorides             3231 non-null   float64\n",
      " 6   free sulfur dioxide   3231 non-null   float64\n",
      " 7   total sulfur dioxide  3231 non-null   float64\n",
      " 8   density               3231 non-null   float64\n",
      " 9   pH                    3231 non-null   float64\n",
      " 10  sulphates             3231 non-null   float64\n",
      " 11  alcohol               3231 non-null   object \n",
      " 12  quality               3231 non-null   int64  \n",
      "dtypes: float64(10), int64(1), object(2)\n",
      "memory usage: 328.3+ KB\n"
     ]
    }
   ],
   "source": [
    "# Creamos un nuevo dataframe para trabajar en él.\n",
    "df = raw_df.copy()\n",
    "\n",
    "df.info()"
   ]
  },
  {
   "cell_type": "markdown",
   "metadata": {},
   "source": [
    "### Columna *'type'*\n",
    "Esta variable nos muestra la variedad del vino en cuestion. Es una variable cuantitativa nominal y tiene dos varoles posibles: **\"Moscatel\"** o **\"Syrah\"**. No tiene valores nulos."
   ]
  },
  {
   "cell_type": "code",
   "execution_count": 87,
   "metadata": {},
   "outputs": [
    {
     "data": {
      "text/plain": [
       "type\n",
       "Moscatel    1632\n",
       "Syrah       1599\n",
       "Name: count, dtype: int64"
      ]
     },
     "execution_count": 87,
     "metadata": {},
     "output_type": "execute_result"
    }
   ],
   "source": [
    "df['type'].value_counts()"
   ]
  },
  {
   "cell_type": "markdown",
   "metadata": {},
   "source": [
    "### Columna *'fixed acidity'*\n",
    "Esta columna refleja la cantidad de acidos no volatiles presentes en el vino, medida en gramos por litro. Es una variable cuantitativa continua."
   ]
  },
  {
   "cell_type": "code",
   "execution_count": 88,
   "metadata": {},
   "outputs": [
    {
     "name": "stdout",
     "output_type": "stream",
     "text": [
      "count    3231.000000\n",
      "mean        7.414082\n",
      "std         1.598760\n",
      "min         3.800000\n",
      "25%         6.400000\n",
      "50%         7.000000\n",
      "75%         8.000000\n",
      "max        15.900000\n",
      "Name: fixed acidity, dtype: float64\n"
     ]
    }
   ],
   "source": [
    "print(df['fixed acidity'].describe())"
   ]
  },
  {
   "cell_type": "markdown",
   "metadata": {},
   "source": [
    "### Columna *'volatile acidity'*\n",
    "Esta columna da la cantidad de acidos volatiles presentes en el vino, medida en gramos por litro. Es una variable cuantitativa continua.\n",
    "\n",
    "La acidez volátil (AV) es el conjunto de ácidos grasos de la serie\n",
    "acética que se hallan en el vino libres o combinados formando sales.\n",
    "El más importante es el ácido acético.\n",
    "El olor desagradable a \"picado\" de algunos vinos es debido principalmente al ácido acético y al acetato de etilo. El nivel sensorial\n",
    "de estos compuestos es del orden de 0,6 g/L para el ácido acético\n",
    "y 0,1 g/L para el acetato de etilo. \n",
    "\n",
    "*Para mas informacion, visitar:*\n",
    "- *[Enología - U. de Santiago de Compostela](https://www.usc.gal/caa/MetAnalisisStgo1/enologia.pdf)*\n",
    "- *[Acidos y acidez en el vino - Aprender de vino](https://www.aprenderdevino.es/acidos-acidez-vino/)*"
   ]
  },
  {
   "cell_type": "code",
   "execution_count": 89,
   "metadata": {},
   "outputs": [
    {
     "name": "stdout",
     "output_type": "stream",
     "text": [
      "count    3231.000000\n",
      "mean        0.403802\n",
      "std         0.189421\n",
      "min         0.085000\n",
      "25%         0.260000\n",
      "50%         0.360000\n",
      "75%         0.530000\n",
      "max         1.580000\n",
      "Name: volatile acidity, dtype: float64\n"
     ]
    }
   ],
   "source": [
    "print(df['volatile acidity'].describe())"
   ]
  },
  {
   "cell_type": "markdown",
   "metadata": {},
   "source": [
    "### Columna *'citric acid'*\n",
    "Esta columna muestra la cantidad de acido citrico presente en el vino, medida en gramos por litro. Es una variable cuantitativa continua."
   ]
  },
  {
   "cell_type": "code",
   "execution_count": 94,
   "metadata": {},
   "outputs": [
    {
     "name": "stdout",
     "output_type": "stream",
     "text": [
      "count    3231.000000\n",
      "mean        0.288028\n",
      "std         0.156842\n",
      "min         0.000000\n",
      "25%         0.200000\n",
      "50%         0.280000\n",
      "75%         0.370000\n",
      "max         1.000000\n",
      "Name: citric acid, dtype: float64\n"
     ]
    }
   ],
   "source": [
    "print(df['citric acid'].describe())"
   ]
  },
  {
   "cell_type": "markdown",
   "metadata": {},
   "source": [
    "### Columna 'residual sugar'\n",
    "Esta columna da la cantidad de azúcar residual en gramos por litro de vino. Es una variable cuantitativa continua."
   ]
  },
  {
   "cell_type": "code",
   "execution_count": 5,
   "metadata": {},
   "outputs": [
    {
     "name": "stdout",
     "output_type": "stream",
     "text": [
      "count    3231.000000\n",
      "mean        4.526339\n",
      "std         4.143991\n",
      "min         0.700000\n",
      "25%         1.900000\n",
      "50%         2.500000\n",
      "75%         6.100000\n",
      "max        26.050000\n",
      "Name: residual sugar, dtype: float64\n"
     ]
    }
   ],
   "source": [
    "print(df['residual sugar'].describe())"
   ]
  },
  {
   "cell_type": "markdown",
   "metadata": {},
   "source": [
    "### Columna *'chlorides'*\n",
    "Esta columna nos indica la cantidad de cloruros presentes en el vino, medidos en miligramos por litro (mg/L). Es una variable cuantitativa continua.\n",
    "Los cloruros (*\"chlorides\" por su nombre en ingles*) en el vino pueden afectar el sabor y la calidad del mismo, y también pueden ayudar a determinar su origen y las variedades de uva:\n",
    "\n",
    "- **Sabor:**\n",
    "      altas concentraciones de cloruro pueden darle al vino un sabor salado indeseable, lo que puede reducir su atractivo en el mercado. Sin embargo, también se cree que la presencia de cloruro es necesaria para que el sabor salado sea percibido.\n",
    "\n",
    "- **Origen:**\n",
    "      La concentración de cloruro en el vino puede verse influenciada por las condiciones geográficas, geológicas y climáticas del viñedo, como su distancia de la costa, el tipo de suelo y si se riega con agua salada.\n",
    "\n",
    "- **Variedades de uva:**\n",
    "      El tipo de uva utilizado en el vino puede influir en la cantidad de cloruro que contiene.\n",
    "\n",
    "- **Restricciones legales:**\n",
    "      La concentración de cloruro en el vino está regulada por diferentes países. Por ejemplo, el nivel máximo legal de cloruro en el vino terminado es de 606 mg/L.\n",
    "\n",
    "La concentración de cloruro en el vino varía ampliamente, pero raramente supera los 500 mg/L."
   ]
  },
  {
   "cell_type": "code",
   "execution_count": 3,
   "metadata": {},
   "outputs": [
    {
     "data": {
      "text/plain": [
       "count    3231.000000\n",
       "mean        0.066149\n",
       "std         0.041908\n",
       "min         0.009000\n",
       "25%         0.042000\n",
       "50%         0.058000\n",
       "75%         0.080000\n",
       "max         0.611000\n",
       "Name: chlorides, dtype: float64"
      ]
     },
     "execution_count": 3,
     "metadata": {},
     "output_type": "execute_result"
    }
   ],
   "source": [
    "df['chlorides'].describe()"
   ]
  },
  {
   "cell_type": "markdown",
   "metadata": {},
   "source": [
    "### Columna *'free sulfur dioxide'*\n",
    "Esta columna nos indica la cantidad de dióxido de azufre (SO<sub>2</sub>) libre presente en el vino, medido en miligramos por litro (mg/L). Es una variable cuantitativa continua.\n",
    "El anhídrido sulfuroso se obtiene por oxidación del azufre donde por una combustión del azufre con el oxígeno genera el dióxido de azufre.\n",
    "Es considerado como el primer aditivo de uso enológico, el cual desde los comienzos del tiempo de la enología fue muy útil ya que a partir de su uso, se determinaron menos alteraciones durante las etapas de conservación. Esto se explica gracias a la fuerte acción bactericida que tiene, actualmente se lo sigue considerando como algo indispensable en la enología de nuestros días.\n",
    "En el vino, lo vamos a tener bajo tres formas:\n",
    "- anhídrido sulfuro libre\n",
    "- anhídrido sulfuroso combinado\n",
    "- anhídrido sulfuroso total (que es la suma de los dos anteriores).\n",
    "\n",
    "El anhídrido sulfuroso libre tiene distintas formas, una de ellas es la forma gaseosa, como dióxido de azufre que es soluble en el agua del vino; el ácido sulfuroso; el anión sulfito ácido que proviene de la disociación del ácido sulfuroso; y también en anión sulfito. \n",
    "\n",
    "> *Para mas información, visitar:*\n",
    ">    - *[El Consejo de Enólogos](http://www.consejodeenologos.com.ar/panel/upload/contenidos/pdf/Microsoft_Word___ANHDRIDO_SULFUROSO_1.pdf)*\n",
    ">    - *[Vinetur](https://www.vinetur.com/2016011026759/las-propiedades-del-anhidrido-sulfuroso-en-la-elaboracion-del-vino.html)*"
   ]
  },
  {
   "cell_type": "code",
   "execution_count": 3,
   "metadata": {},
   "outputs": [
    {
     "data": {
      "text/plain": [
       "count    3231.000000\n",
       "mean       25.649335\n",
       "std        17.422288\n",
       "min         1.000000\n",
       "25%        12.000000\n",
       "50%        23.000000\n",
       "75%        35.000000\n",
       "max       289.000000\n",
       "Name: free sulfur dioxide, dtype: float64"
      ]
     },
     "execution_count": 3,
     "metadata": {},
     "output_type": "execute_result"
    }
   ],
   "source": [
    "df['free sulfur dioxide'].describe()"
   ]
  },
  {
   "cell_type": "markdown",
   "metadata": {},
   "source": [
    "### Columna *'total sulfur dioxide'*\n",
    "Esta columna nos indica la cantidad total de dióxido de azufre (SO<sub>2</sub>) total presente en el vino, medido en miligramos por litro (mg/L). Es una variable cuantitativa continua.\n",
    "\n",
    "- El anhídrido sulfuroso total está constituido por la suma del anhídrido sulfuroso libre\n",
    "y el anhídrido sulfuroso combinado.\n",
    "\n",
    "> *Para mas información, visitar:*\n",
    ">    - *[El Consejo de Enólogos](http://www.consejodeenologos.com.ar/panel/upload/contenidos/pdf/Microsoft_Word___ANHDRIDO_SULFUROSO_1.pdf)*\n",
    ">    - *[Vinetur](https://www.vinetur.com/2016011026759/las-propiedades-del-anhidrido-sulfuroso-en-la-elaboracion-del-vino.html)*"
   ]
  },
  {
   "cell_type": "code",
   "execution_count": 4,
   "metadata": {},
   "outputs": [
    {
     "data": {
      "text/plain": [
       "count    3231.000000\n",
       "mean       88.349892\n",
       "std        54.633913\n",
       "min         6.000000\n",
       "25%        38.000000\n",
       "50%        89.000000\n",
       "75%       127.000000\n",
       "max       440.000000\n",
       "Name: total sulfur dioxide, dtype: float64"
      ]
     },
     "execution_count": 4,
     "metadata": {},
     "output_type": "execute_result"
    }
   ],
   "source": [
    "df['total sulfur dioxide'].describe()"
   ]
  },
  {
   "cell_type": "markdown",
   "metadata": {},
   "source": [
    "### Columna *'density'*\n",
    "En esta columna podemos ver la densidad del vino, medida en gramos por centímetro cúbico (g/cm<sup>3</sup>). Es una variable cuantitativa continua.\n",
    "\n",
    "La densidad o peso específico del vino es un parámetro analítico de importancia relativa. Si estrujamos uvas y medimos la densidad de ese mosto comprobamos que pesa más que el agua. Un litro de agua pesa 1.000 gramos y un litro de mosto pesa 994 gramos, pero no siempre es lo mismo. Durante la fermentación, que dura unos diez días, la densidad que parte de 1.100, concluye en 994. La diferencia es el tufo que va a la atmósfera.\n",
    "\n",
    "Pero no todos los vinos acaban su fermentación con la misma densidad, depende de su contenido en alcohol. Si la uva es muy madura tendrá mucho azúcar que formara 14º de alcohol y ese vino tendrá densidad 0,993 que significa que un litro pesará 993 gramos. Por el contrario, si vendimiamos esa uva sin madurar su grado de alcohol será 10º y su densidad de 0,996, lo cual significa que un litro pesa 996 gramos.\n",
    "\n",
    "*Para mas información, visitar [Densidad del vino - La Rioja](https://www.larioja.com/opinion/densidad-vino-20210611214244-nt.html?ref=https%3A%2F%2Fwww.larioja.com%2Fopinion%2Fdensidad-vino-20210611214244-nt.html).*"
   ]
  },
  {
   "cell_type": "code",
   "execution_count": 5,
   "metadata": {},
   "outputs": [
    {
     "data": {
      "text/plain": [
       "count    3231.000000\n",
       "mean        1.901500\n",
       "std         8.747779\n",
       "min         0.987110\n",
       "25%         0.992550\n",
       "50%         0.995500\n",
       "75%         0.997230\n",
       "max       100.369000\n",
       "Name: density, dtype: float64"
      ]
     },
     "execution_count": 5,
     "metadata": {},
     "output_type": "execute_result"
    }
   ],
   "source": [
    "df['density'].describe()"
   ]
  },
  {
   "cell_type": "markdown",
   "metadata": {},
   "source": [
    "### Columna *'pH'*\n",
    "Esta columna nos indica el pH del vino. Es una variable cuantitativa continua.\n",
    "\n",
    "Desde un punto de vista sencillo podemos decir que el pH mide el grado de acidez o de alcalinidad de una disolución obtenida de cualquier elemento o sustancia. Esta unidad de medida se distribuye a lo largo de una escala que va desde el 0 hasta el 14, tomándose el 7 como neutro, siendo los valores más cercanos a 0 los que indican que esa disolución es más ácida y los valores más cercanos a 14 los que indican que esa solución es más alcalina o básica, como también se denomina.\n",
    "\n",
    "El pH de la mayoría de los vinos se encuentra en el intervalo de 2,8 a 4, lo que lógicamente recae en el lado ácido de la escala. Un vino con un pH de 2,8 es extremadamente ácido mientras que uno con un pH en torno a 4 es plano, carente de acidez.\n",
    "\n",
    "> *Para mas información, visitar [pH - Aprender de vino](https://www.aprenderdevino.es/ph-y-vino/).*"
   ]
  },
  {
   "cell_type": "code",
   "execution_count": 7,
   "metadata": {},
   "outputs": [
    {
     "data": {
      "text/plain": [
       "count    3231.000000\n",
       "mean        3.235908\n",
       "std         0.164921\n",
       "min         2.740000\n",
       "25%         3.120000\n",
       "50%         3.230000\n",
       "75%         3.340000\n",
       "max         4.010000\n",
       "Name: pH, dtype: float64"
      ]
     },
     "execution_count": 7,
     "metadata": {},
     "output_type": "execute_result"
    }
   ],
   "source": [
    "df['pH'].describe()"
   ]
  },
  {
   "cell_type": "markdown",
   "metadata": {},
   "source": [
    "### Columna *'sulphates'*\n",
    "Esta columna nos indica la cantidad de sales de sulfato presentes en el vino, medida en gramos por litro. Es una variable cuantitativa continua."
   ]
  },
  {
   "cell_type": "code",
   "execution_count": 6,
   "metadata": {},
   "outputs": [
    {
     "data": {
      "text/plain": [
       "count    3231.000000\n",
       "mean        0.573680\n",
       "std         0.166353\n",
       "min         0.230000\n",
       "25%         0.470000\n",
       "50%         0.550000\n",
       "75%         0.650000\n",
       "max         2.000000\n",
       "Name: sulphates, dtype: float64"
      ]
     },
     "execution_count": 6,
     "metadata": {},
     "output_type": "execute_result"
    }
   ],
   "source": [
    "df['sulphates'].describe()"
   ]
  },
  {
   "cell_type": "markdown",
   "metadata": {},
   "source": [
    "### Columna *'alcohol'*\n",
    "Podemos ver que la columna 'alcohol' a simple vista consta de numeros reales, sin embargo, está establecida como tipo `string`, entonces procedemos a modificar su formato a tipo `float`, para así poder analizar esta variable de una manera adecuada.\n",
    "\n",
    "Antes de hacer la transformacion, hacemos un `value_counts()` de la columna para asegurarnos que se trata unicamente de numeros.\n",
    "Parece ser que encontramos valores erroneos, que tienen varios puntos en lugar de uno único para separar parte entera de decimal.\n",
    "\n",
    "Para corregir los valores en la columna alcohol y quedarnos solo con la primera aparición del punto decimal, lo hicimos aplicandole una funcion del modulo `re` de expresiones regulares de manera independiente a cada una de las filas con el metodo `apply()`.\n",
    "\n",
    "Utilizamos lambda como manera de definir la funcion ya que es algo corto que no necesita de la definicion de una funcion tradicional. Dentro de esta, implementamos `re.sub()`: es una función del módulo *re* (expresiones regulares en Python) que busca un patrón en un string y lo reemplaza por otro string.\n",
    "\n",
    "La sintaxis es `re.sub(pattern, replacement, string)`, donde:\n",
    "- `pattern`: el patrón de la expresión regular que se quiere buscar.\n",
    "> En este caso usamos `r'(\\.\\d+)\\.'`\n",
    ">\n",
    "> 1. **`r''` (Raw String Literal):**\n",
    ">    - El prefijo `r` indica que el string es un \"raw string\" (cadena cruda), lo que significa que las barras invertidas `\\` son tratadas literalmente y no como caracteres de escape.\n",
    ">\n",
    "> 2. **`(\\.\\d+)`:**\n",
    ">   - **`\\.`**: Escapa el punto `.` para buscarlo literalmente, ya que en regex `.` representa cualquier carácter. Aquí busca el primer punto en la cadena.\n",
    ">    - **`\\d+`**: Representa uno o más dígitos (`0-9`) que siguen al punto.\n",
    ">    - **`(\\.\\d+)`**: Captura el primer punto y los números que lo siguen como un grupo.\n",
    ">\n",
    "> 3. **`\\.` (después del grupo):**\n",
    ">    - Este busca un punto adicional inmediatamente después de los números capturados en el grupo anterior.\n",
    "- `replacement`: el texto con el que se reemplaza el patrón encontrado.\n",
    "> Este reemplazo en este caso lo hacemos con la expresion regular `(r'\\1')`: `\\1` se refiere al primer grupo capturado, es decir, el primer punto y los números que lo siguen, pero no incluye el segundo punto. Así, solo se conserva el primer punto y los dígitos.\n",
    "- `string`: el string sobre el cual se realiza la búsqueda y reemplazo.\n",
    "\n",
    "Finalmente, pasamos los valores a tipo numerico con el metodo `to_numeric()` de pandas."
   ]
  },
  {
   "cell_type": "code",
   "execution_count": 92,
   "metadata": {},
   "outputs": [
    {
     "name": "stdout",
     "output_type": "stream",
     "text": [
      "alcohol\n",
      "9.5                  200\n",
      "9.4                  170\n",
      "9.2                  131\n",
      "11                   120\n",
      "9.8                  117\n",
      "                    ... \n",
      "9.95                   1\n",
      "923.333333.333333      1\n",
      "9.25                   1\n",
      "9.05                   1\n",
      "10.75                  1\n",
      "Name: count, Length: 110, dtype: int64\n"
     ]
    }
   ],
   "source": [
    "import re  # Importamos el paquete re de expresiones regulares en python\n",
    "\n",
    "# Vemos los valores erroneos\n",
    "print(df['alcohol'].value_counts())\n",
    "\n",
    "# Reemplazar todos los puntos después del primero en cada valor de la columna 'alcohol'\n",
    "df['alcohol'] = df['alcohol'].apply(lambda x: re.sub(r'(\\.\\d+)\\.', r'\\1', x))"
   ]
  },
  {
   "cell_type": "code",
   "execution_count": 93,
   "metadata": {},
   "outputs": [
    {
     "name": "stdout",
     "output_type": "stream",
     "text": [
      "\n",
      "Ahora con los valores corregidos:\n",
      " alcohol\n",
      "9.500000      200\n",
      "9.400000      170\n",
      "9.200000      131\n",
      "11.000000     120\n",
      "9.800000      117\n",
      "             ... \n",
      "9.950000        1\n",
      "923.333333      1\n",
      "9.250000        1\n",
      "9.050000        1\n",
      "10.750000       1\n",
      "Name: count, Length: 110, dtype: int64\n",
      "\n",
      "Vemos los tipos de datos corregidos:\n",
      "<class 'pandas.core.frame.DataFrame'>\n",
      "RangeIndex: 3231 entries, 0 to 3230\n",
      "Data columns (total 13 columns):\n",
      " #   Column                Non-Null Count  Dtype  \n",
      "---  ------                --------------  -----  \n",
      " 0   type                  3231 non-null   object \n",
      " 1   fixed acidity         3231 non-null   float64\n",
      " 2   volatile acidity      3231 non-null   float64\n",
      " 3   citric acid           3231 non-null   float64\n",
      " 4   residual sugar        3231 non-null   float64\n",
      " 5   chlorides             3231 non-null   float64\n",
      " 6   free sulfur dioxide   3231 non-null   float64\n",
      " 7   total sulfur dioxide  3231 non-null   float64\n",
      " 8   density               3231 non-null   float64\n",
      " 9   pH                    3231 non-null   float64\n",
      " 10  sulphates             3231 non-null   float64\n",
      " 11  alcohol               3231 non-null   float64\n",
      " 12  quality               3231 non-null   int64  \n",
      "dtypes: float64(11), int64(1), object(1)\n",
      "memory usage: 328.3+ KB\n"
     ]
    }
   ],
   "source": [
    "### Separamos la celula de codigo en dos para evitar errores de ejecución.\n",
    "\n",
    "# Convertir los valores corregidos a tipo numérico\n",
    "df['alcohol'] = pd.to_numeric(df['alcohol'])\n",
    "\n",
    "print(\"\\nAhora con los valores corregidos:\\n\", df['alcohol'].value_counts())\n",
    "\n",
    "print(\"\\nVemos los tipos de datos corregidos:\")\n",
    "df.info()"
   ]
  },
  {
   "cell_type": "markdown",
   "metadata": {},
   "source": [
    "### Columna *'quality'*\n",
    "Esta columna nos indica la calidad del vino, con una escala que va de 0 a 10. Es una variable cuantitativa discreta."
   ]
  },
  {
   "cell_type": "code",
   "execution_count": 9,
   "metadata": {},
   "outputs": [
    {
     "data": {
      "text/plain": [
       "count    3231.000000\n",
       "mean        5.785825\n",
       "std         0.829374\n",
       "min         3.000000\n",
       "25%         5.000000\n",
       "50%         6.000000\n",
       "75%         6.000000\n",
       "max         8.000000\n",
       "Name: quality, dtype: float64"
      ]
     },
     "execution_count": 9,
     "metadata": {},
     "output_type": "execute_result"
    }
   ],
   "source": [
    "df['quality'].describe()"
   ]
  },
  {
   "cell_type": "markdown",
   "metadata": {},
   "source": [
    "## Descripcion de las variables numericas\n",
    "`describe()` del dataframe."
   ]
  },
  {
   "cell_type": "code",
   "execution_count": 17,
   "metadata": {},
   "outputs": [
    {
     "data": {
      "text/html": [
       "<div>\n",
       "<style scoped>\n",
       "    .dataframe tbody tr th:only-of-type {\n",
       "        vertical-align: middle;\n",
       "    }\n",
       "\n",
       "    .dataframe tbody tr th {\n",
       "        vertical-align: top;\n",
       "    }\n",
       "\n",
       "    .dataframe thead th {\n",
       "        text-align: right;\n",
       "    }\n",
       "</style>\n",
       "<table border=\"1\" class=\"dataframe\">\n",
       "  <thead>\n",
       "    <tr style=\"text-align: right;\">\n",
       "      <th></th>\n",
       "      <th>fixed acidity</th>\n",
       "      <th>volatile acidity</th>\n",
       "      <th>citric acid</th>\n",
       "      <th>residual sugar</th>\n",
       "      <th>chlorides</th>\n",
       "      <th>free sulfur dioxide</th>\n",
       "      <th>total sulfur dioxide</th>\n",
       "      <th>density</th>\n",
       "      <th>pH</th>\n",
       "      <th>sulphates</th>\n",
       "      <th>alcohol</th>\n",
       "      <th>quality</th>\n",
       "    </tr>\n",
       "  </thead>\n",
       "  <tbody>\n",
       "    <tr>\n",
       "      <th>count</th>\n",
       "      <td>3231.000000</td>\n",
       "      <td>3231.000000</td>\n",
       "      <td>3231.000000</td>\n",
       "      <td>3231.000000</td>\n",
       "      <td>3231.000000</td>\n",
       "      <td>3231.000000</td>\n",
       "      <td>3231.000000</td>\n",
       "      <td>3231.000000</td>\n",
       "      <td>3231.000000</td>\n",
       "      <td>3231.000000</td>\n",
       "      <td>3231.000000</td>\n",
       "      <td>3231.000000</td>\n",
       "    </tr>\n",
       "    <tr>\n",
       "      <th>mean</th>\n",
       "      <td>7.414082</td>\n",
       "      <td>0.403802</td>\n",
       "      <td>0.288028</td>\n",
       "      <td>4.526339</td>\n",
       "      <td>0.066149</td>\n",
       "      <td>25.649335</td>\n",
       "      <td>88.349892</td>\n",
       "      <td>1.901500</td>\n",
       "      <td>3.235908</td>\n",
       "      <td>0.573680</td>\n",
       "      <td>13.983321</td>\n",
       "      <td>5.785825</td>\n",
       "    </tr>\n",
       "    <tr>\n",
       "      <th>std</th>\n",
       "      <td>1.598760</td>\n",
       "      <td>0.189421</td>\n",
       "      <td>0.156842</td>\n",
       "      <td>4.143991</td>\n",
       "      <td>0.041908</td>\n",
       "      <td>17.422288</td>\n",
       "      <td>54.633913</td>\n",
       "      <td>8.747779</td>\n",
       "      <td>0.164921</td>\n",
       "      <td>0.166353</td>\n",
       "      <td>48.057856</td>\n",
       "      <td>0.829374</td>\n",
       "    </tr>\n",
       "    <tr>\n",
       "      <th>min</th>\n",
       "      <td>3.800000</td>\n",
       "      <td>0.085000</td>\n",
       "      <td>0.000000</td>\n",
       "      <td>0.700000</td>\n",
       "      <td>0.009000</td>\n",
       "      <td>1.000000</td>\n",
       "      <td>6.000000</td>\n",
       "      <td>0.987110</td>\n",
       "      <td>2.740000</td>\n",
       "      <td>0.230000</td>\n",
       "      <td>8.400000</td>\n",
       "      <td>3.000000</td>\n",
       "    </tr>\n",
       "    <tr>\n",
       "      <th>25%</th>\n",
       "      <td>6.400000</td>\n",
       "      <td>0.260000</td>\n",
       "      <td>0.200000</td>\n",
       "      <td>1.900000</td>\n",
       "      <td>0.042000</td>\n",
       "      <td>12.000000</td>\n",
       "      <td>38.000000</td>\n",
       "      <td>0.992550</td>\n",
       "      <td>3.120000</td>\n",
       "      <td>0.470000</td>\n",
       "      <td>9.550000</td>\n",
       "      <td>5.000000</td>\n",
       "    </tr>\n",
       "    <tr>\n",
       "      <th>50%</th>\n",
       "      <td>7.000000</td>\n",
       "      <td>0.360000</td>\n",
       "      <td>0.280000</td>\n",
       "      <td>2.500000</td>\n",
       "      <td>0.058000</td>\n",
       "      <td>23.000000</td>\n",
       "      <td>89.000000</td>\n",
       "      <td>0.995500</td>\n",
       "      <td>3.230000</td>\n",
       "      <td>0.550000</td>\n",
       "      <td>10.500000</td>\n",
       "      <td>6.000000</td>\n",
       "    </tr>\n",
       "    <tr>\n",
       "      <th>75%</th>\n",
       "      <td>8.000000</td>\n",
       "      <td>0.530000</td>\n",
       "      <td>0.370000</td>\n",
       "      <td>6.100000</td>\n",
       "      <td>0.080000</td>\n",
       "      <td>35.000000</td>\n",
       "      <td>127.000000</td>\n",
       "      <td>0.997230</td>\n",
       "      <td>3.340000</td>\n",
       "      <td>0.650000</td>\n",
       "      <td>11.500000</td>\n",
       "      <td>6.000000</td>\n",
       "    </tr>\n",
       "    <tr>\n",
       "      <th>max</th>\n",
       "      <td>15.900000</td>\n",
       "      <td>1.580000</td>\n",
       "      <td>1.000000</td>\n",
       "      <td>26.050000</td>\n",
       "      <td>0.611000</td>\n",
       "      <td>289.000000</td>\n",
       "      <td>440.000000</td>\n",
       "      <td>100.369000</td>\n",
       "      <td>4.010000</td>\n",
       "      <td>2.000000</td>\n",
       "      <td>973.333333</td>\n",
       "      <td>8.000000</td>\n",
       "    </tr>\n",
       "  </tbody>\n",
       "</table>\n",
       "</div>"
      ],
      "text/plain": [
       "       fixed acidity  volatile acidity  citric acid  residual sugar  \\\n",
       "count    3231.000000       3231.000000  3231.000000     3231.000000   \n",
       "mean        7.414082          0.403802     0.288028        4.526339   \n",
       "std         1.598760          0.189421     0.156842        4.143991   \n",
       "min         3.800000          0.085000     0.000000        0.700000   \n",
       "25%         6.400000          0.260000     0.200000        1.900000   \n",
       "50%         7.000000          0.360000     0.280000        2.500000   \n",
       "75%         8.000000          0.530000     0.370000        6.100000   \n",
       "max        15.900000          1.580000     1.000000       26.050000   \n",
       "\n",
       "         chlorides  free sulfur dioxide  total sulfur dioxide      density  \\\n",
       "count  3231.000000          3231.000000           3231.000000  3231.000000   \n",
       "mean      0.066149            25.649335             88.349892     1.901500   \n",
       "std       0.041908            17.422288             54.633913     8.747779   \n",
       "min       0.009000             1.000000              6.000000     0.987110   \n",
       "25%       0.042000            12.000000             38.000000     0.992550   \n",
       "50%       0.058000            23.000000             89.000000     0.995500   \n",
       "75%       0.080000            35.000000            127.000000     0.997230   \n",
       "max       0.611000           289.000000            440.000000   100.369000   \n",
       "\n",
       "                pH    sulphates      alcohol      quality  \n",
       "count  3231.000000  3231.000000  3231.000000  3231.000000  \n",
       "mean      3.235908     0.573680    13.983321     5.785825  \n",
       "std       0.164921     0.166353    48.057856     0.829374  \n",
       "min       2.740000     0.230000     8.400000     3.000000  \n",
       "25%       3.120000     0.470000     9.550000     5.000000  \n",
       "50%       3.230000     0.550000    10.500000     6.000000  \n",
       "75%       3.340000     0.650000    11.500000     6.000000  \n",
       "max       4.010000     2.000000   973.333333     8.000000  "
      ]
     },
     "execution_count": 17,
     "metadata": {},
     "output_type": "execute_result"
    }
   ],
   "source": [
    "df.describe()"
   ]
  }
 ],
 "metadata": {
  "kernelspec": {
   "display_name": "venv_tpe",
   "language": "python",
   "name": "python3"
  },
  "language_info": {
   "codemirror_mode": {
    "name": "ipython",
    "version": 3
   },
   "file_extension": ".py",
   "mimetype": "text/x-python",
   "name": "python",
   "nbconvert_exporter": "python",
   "pygments_lexer": "ipython3",
   "version": "3.12.5"
  }
 },
 "nbformat": 4,
 "nbformat_minor": 2
}
